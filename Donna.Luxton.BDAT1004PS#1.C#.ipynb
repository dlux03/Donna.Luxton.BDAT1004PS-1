{
 "cells": [
  {
   "cell_type": "markdown",
   "id": "f29ab575",
   "metadata": {},
   "source": [
    "//Problem Set 1 ----- Jupyter kept giving me issues so I tested everything in Microsoft Visual Studio for my own peace of mind"
   ]
  },
  {
   "cell_type": "markdown",
   "id": "144fb41f",
   "metadata": {},
   "source": [
    "//Question 1 C#\n",
    "    //What data type is each of the following? \n",
    "\n",
    "    5 - int\n",
    "\n",
    "    5.0 - float\n",
    "\n",
    "    5 > 1 - boolean\n",
    "    \n",
    "    '5' - char\n",
    "\n",
    "    5 * 2 - int\n",
    "\n",
    "    '5' * 2 - int\n",
    "\n",
    "    '5' + '2' - int\n",
    "\n",
    "    5 / 2 - int\n",
    "\n",
    "    5 % 2 - int\n",
    "\n",
    "    {5, 2, 1} - int array\n",
    "\n",
    "    5 == 2 - boolean\n",
    "\n",
    "    Pi (the number) - double"
   ]
  },
  {
   "cell_type": "markdown",
   "id": "d68480a3",
   "metadata": {},
   "source": [
    " //Question 2 C#"
   ]
  },
  {
   "cell_type": "markdown",
   "id": "abd0d87d",
   "metadata": {},
   "source": [
    "//A) How many letters are there in 'Supercalifragilisticexpialidocious'? -- I came up with two responses as seen below..."
   ]
  },
  {
   "cell_type": "code",
   "execution_count": 1,
   "id": "911bc0ce",
   "metadata": {},
   "outputs": [],
   "source": [
    "class Program\n",
    "{\n",
    "    static void Main()\n",
    "    {\n",
    "\n",
    "        string str = \"Supercalifragilisticexpialidocious\";\n",
    "        Console.WriteLine(\"Number of Letters: \" + str.Length);\n",
    "    }\n",
    "}"
   ]
  },
  {
   "cell_type": "code",
   "execution_count": 2,
   "id": "436b5e7c",
   "metadata": {},
   "outputs": [],
   "source": [
    "class QueryAString  \n",
    "{  \n",
    "    static void Main()  \n",
    "    {  \n",
    "        string aString = \"supercalifragilisticexpialidocious\";  \n",
    "  \n",
    "        IEnumerable<char> stringQuery =  \n",
    "          from ch in aString  \n",
    "          where Char.IsLetter(ch)  \n",
    "          select ch;  \n",
    "    \n",
    "       \n",
    "        foreach (char c in stringQuery)  \n",
    "            Console.Write(c + \" \");  \n",
    "  \n",
    "        int count = stringQuery.Count();  \n",
    "        Console.WriteLine(\"Count = {0}\", count);  \n",
    "  \n",
    "        Console.WriteLine(System.Environment.NewLine + \"Press any key to exit\");  \n",
    "        Console.ReadKey();  \n",
    "    }  \n",
    "}  "
   ]
  },
  {
   "cell_type": "markdown",
   "id": "a62d3c00",
   "metadata": {},
   "source": [
    "//B) Does 'Supercalifragilisticexpialidocious' contain 'ice' as a substring?"
   ]
  },
  {
   "cell_type": "code",
   "execution_count": 3,
   "id": "59091514",
   "metadata": {},
   "outputs": [],
   "source": [
    "class Program\n",
    "{\n",
    "    static void Main()\n",
    "    {\n",
    "\n",
    "        string str = \"Supercalifragilisticexpialidocious\";\n",
    "\n",
    "        int charPos = str.IndexOf(\"ice\");\n",
    "\n",
    "        if (charPos == -1)\n",
    "        {\n",
    "            Console.WriteLine(\"String does not contain 'ice' as a substring.\");\n",
    "        }\n",
    "        else\n",
    "        {\n",
    "            Console.WriteLine(\"String contains 'ice' as a substring.\");\n",
    "        }\n",
    "\n",
    "    }\n",
    "}"
   ]
  },
  {
   "cell_type": "markdown",
   "id": "0c765082",
   "metadata": {},
   "source": [
    "//C) Which of the folling words is the longest: Supercalifragilisticexpialidocious, Honorificabilitudinitatibus, or Bababadalgharaghtakamminarronnkonn?"
   ]
  },
  {
   "cell_type": "code",
   "execution_count": 4,
   "id": "ff20633d",
   "metadata": {},
   "outputs": [],
   "source": [
    "class Program\n",
    "{\n",
    "    static void Main(string[] args)\n",
    "    {\n",
    "        string text;\n",
    "        string[] stringList;\n",
    "        int ni = 0, len, max = 0;\n",
    "\n",
    "        //String = Supercalifragilisticexpialidocious Honorificabilitudinitatibus Bababadalgharaghtakamminarronnkonn\n",
    "        Console.Write(\"Enter a String:\");\n",
    "        text = Console.ReadLine();\n",
    "        stringList = text.Split(' ');\n",
    "        len = stringList.Length;\n",
    "\n",
    "        \n",
    "        for (int i = 0; i < len; i++)\n",
    "        {\n",
    "            if (stringList[i].Length > max)\n",
    "            {\n",
    "                max = stringList[i].Length;\n",
    "                ni = i;\n",
    "            }\n",
    "        }\n",
    "\n",
    "        \n",
    "        Console.WriteLine(\"Longest string:{0} \\n Character Count:{1}\", stringList[ni], max);\n",
    "        Console.ReadLine();\n",
    "    }\n",
    "}"
   ]
  },
  {
   "cell_type": "markdown",
   "id": "fbf70133",
   "metadata": {},
   "source": [
    "//D) Which composer comes first in the dictionary: 'Berlioz', 'Borodin', 'Brian', 'Bartok', 'Bellini', 'Buxtehude', 'Bernstein'. Which one comes last? "
   ]
  },
  {
   "cell_type": "code",
   "execution_count": 5,
   "id": "3e09d1a9",
   "metadata": {},
   "outputs": [],
   "source": [
    " class Program\n",
    "    {\n",
    "        static void Main(string[] args)\n",
    "        {\n",
    "            List<Person> Composer = new List<Person>(7);  \n",
    "            Composer.Add(new Person(\"Berlioz\"));\n",
    "            Composer.Add(new Person(\"Borodin\"));\n",
    "            Composer.Add(new Person(\"Brian\"));\n",
    "            Composer.Add(new Person(\"Bartok\"));\n",
    "            Composer.Add(new Person(\"Bellini\"));\n",
    "            Composer.Add(new Person(\"Buxtehude\"));\n",
    "            Composer.Add(new Person(\"Bernstein\"));\n",
    "\n",
    "            Console.WriteLine(\":::::::::::::::::::::::::::::::Before Sorting ::::::::::::::::::::::::::::::::::::\");\n",
    "            \n",
    "            foreach (Person p in Composer)\n",
    "            { \n",
    "                Console.WriteLine(p.Name);\n",
    "            }\n",
    "            Console.WriteLine(\":::::::::::::::::::::::::::::::After Sorting :::::::::::::::::::::::::::::\");\n",
    "            Composer.Sort((x, y) => string.Compare(x.Name, y.Name));\n",
    "            foreach (Person p in Composer)         \n",
    "            { \n",
    "                Console.WriteLine(p.Name);\n",
    "            }\n",
    "            Console.ReadKey();    \n",
    "        }\n",
    "    }\n",
    "    class Person\n",
    "    {\n",
    "        public String Name;\n",
    "\n",
    "        public Person(String Name)\n",
    "        {\n",
    "            this.Name = Name;\n",
    "\n",
    "        }\n",
    "    }"
   ]
  },
  {
   "cell_type": "markdown",
   "id": "b3c45e2d",
   "metadata": {},
   "source": [
    "//Question 3 C#\n",
    "\n",
    "Implement function triangleArea(a,b,c)that takes as input the lengths of the 3 sides of a triangle and returns the area of the triangle. By Heron's formula, the area s(s-a)(s-b)(s-c)of a triangle with side lengths a, b, and c is , where s=(a+b+c)/2. >>> triangleArea(2,2,2) 1.7320508075688772"
   ]
  },
  {
   "cell_type": "code",
   "execution_count": 6,
   "id": "4c1fa6f8",
   "metadata": {},
   "outputs": [],
   "source": [
    "using System;\n",
    "\n",
    "class AreaOfTheTriangle\n",
    "{\n",
    "\n",
    "static double triangleArea(double a,double b,double c)\n",
    "{\n",
    "double s = (a + b + c) / 2;\n",
    "\n",
    "double area = Math.Sqrt(s * (s - a) * (s - b) * (s - c));\n",
    "\n",
    "return area;\n",
    "}\n",
    "\n",
    "public static void Main()\n",
    "{\n",
    "double area = triangleArea(2, 2, 2);\n",
    "\n",
    "Console.Write(area);\n",
    "}\n",
    "}"
   ]
  },
  {
   "cell_type": "markdown",
   "id": "277f700c",
   "metadata": {},
   "source": [
    "//Question 4 C# -- I wasn't entirely sure what you wanted so I came up with something you input the information in and gave you odd and even elements at the end\n",
    "\n",
    "Write a program in C# Sharp to separate odd and even integers in separate arrays. Go to the editor Test Data : Input the number of elements to be stored in the array :5 Input 5 elements in the array : element - 0 : 25 Computer Studies element - 1 : 47 element - 2 : 42 element - 3 : 56 element - 4 : 32 Expected Output: The Even elements are: 42 56 32 The Odd elements are : 25 47"
   ]
  },
  {
   "cell_type": "code",
   "execution_count": 7,
   "id": "05d7d1d7",
   "metadata": {},
   "outputs": [],
   "source": [
    "class OddEven\n",
    "{\n",
    "    static void Main() \n",
    "    {\n",
    "        Console.Write(\"Input the number of elements to be stored in the array: \");\n",
    "        int n = Convert.ToInt32(Console.ReadLine());\n",
    "        int[] arr = new int[n];\n",
    "        \n",
    "        Console.WriteLine(\"Input \" + n + \" elements in the array\");\n",
    "        for(int i = 0; i < n; i++)\n",
    "        {\n",
    "            Console.Write(\"element - \" + i + \" : \");\n",
    "            arr[i] = Convert.ToInt32(Console.ReadLine());\n",
    "        }\n",
    "        \n",
    "        int[] even = new int[n];\n",
    "        int[] odd = new int[n];\n",
    "        \n",
    "        int evenIndex = 0, oddIndex = 0;\n",
    "        \n",
    "        for(int i = 0; i < n; i++)\n",
    "        {\n",
    "            if(arr[i] % 2 == 0)\n",
    "            {\n",
    "                even[evenIndex] = arr[i];\n",
    "                evenIndex++;\n",
    "            }\n",
    "            else\n",
    "            {\n",
    "                odd[oddIndex] = arr[i];\n",
    "                oddIndex++;\n",
    "            }\n",
    "        }\n",
    "        \n",
    "        Console.WriteLine(\"The even elements are:\");\n",
    "        for(int i = 0; i < evenIndex; i++)\n",
    "            Console.Write(even[i] + \" \");\n",
    "        Console.WriteLine(\"\\nThe odd elements are:\");\n",
    "        for(int i = 0; i < oddIndex; i++)\n",
    "            Console.Write(odd[i] + \" \");\n",
    "    }\n",
    "}"
   ]
  },
  {
   "cell_type": "markdown",
   "id": "14bd7fd7",
   "metadata": {},
   "source": [
    "//Question 5 C#"
   ]
  },
  {
   "cell_type": "markdown",
   "id": "7b2e3854",
   "metadata": {},
   "source": [
    "//A) Write a function inside(x,y,x1,y1,x2,y2)that returnsTrue or False depending on whether the point (x,y)lies in the rectangle with lower left corner (x1,y1)and upper right corner (x2,y2).\n",
    ">>> inside(1,1,0,0,2,3) True >>> inside(-1,-1,0,0,2,3) False "
   ]
  },
  {
   "cell_type": "code",
   "execution_count": 8,
   "id": "44dba1af",
   "metadata": {},
   "outputs": [],
   "source": [
    "class GFG\n",
    "{\n",
    "\n",
    "    static bool inside(int x, int y, int x1, int y1, int x2, int y2)\n",
    "    {\n",
    "        if (x > x1 && x < x2 && y > y1 && y < y2)\n",
    "            return true;\n",
    "\n",
    "        return false;\n",
    "    }\n",
    "\n",
    "    public static void Main()\n",
    "    {\n",
    "        int x1 = 0, y1 = 0, x2 = 10, y2 = 8;\n",
    "\n",
    "        // given point\n",
    "        int x = 1, y = 5;\n",
    "\n",
    "        // function call\n",
    "        if (inside(x, y, x1, y1, x2, y2))\n",
    "            Console.Write(\"True\");\n",
    "        else\n",
    "            Console.Write(\"False\");\n",
    "    }\n",
    "}"
   ]
  },
  {
   "cell_type": "markdown",
   "id": "0fc62ab2",
   "metadata": {},
   "source": [
    "//B) Use function inside()from part a. to write an expression that tests whether the point (1,1) lies in both of the following rectangles: one with lower left corner (0.3, 0.5) and upper right corner (1.1, 0.7) and the other with lower left corner (0.5, 0.2) and upper right corner (1.1, 2)."
   ]
  },
  {
   "cell_type": "code",
   "execution_count": 9,
   "id": "d492d3ec",
   "metadata": {},
   "outputs": [],
   "source": [
    "using System;\n",
    "\n",
    "public static class Globals\n",
    "{\n",
    "\n",
    "public static bool inside(double x, double y, double x1, double y1, double x2, double y2)\n",
    "{\n",
    "if (x > x1 && x < x2 && y > y1 && y < y2)\n",
    "{\n",
    "return true;\n",
    "}\n",
    "\n",
    "return false;\n",
    "}\n",
    "\n",
    "\n",
    "internal static void Main()\n",
    "{\n",
    "double x = 1;\n",
    "double y = 1;\n",
    "if (inside(x, y, 0.3, 0.5, 1.1, 0.7) && inside(x, y, 0.5, 0.2, 1.1, 2))\n",
    "{\n",
    "Console.Write(\"True\");\n",
    "}\n",
    "else\n",
    "{\n",
    "Console.Write(\"False\");\n",
    "\n",
    "}\n",
    "\n",
    "\n",
    "}\n",
    "}"
   ]
  }
 ],
 "metadata": {
  "kernelspec": {
   "display_name": ".NET (C#)",
   "language": "C#",
   "name": ".net-csharp"
  },
  "language_info": {
   "file_extension": ".cs",
   "mimetype": "text/x-csharp",
   "name": "C#",
   "pygments_lexer": "csharp",
   "version": "8.0"
  }
 },
 "nbformat": 4,
 "nbformat_minor": 5
}
