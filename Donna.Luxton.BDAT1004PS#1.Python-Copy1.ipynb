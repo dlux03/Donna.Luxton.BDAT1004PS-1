{
 "cells": [
  {
   "cell_type": "markdown",
   "id": "5d409b70",
   "metadata": {},
   "source": [
    "#Problem Set 1 ----- Jupyter kept giving me issues so I tested everything in Microsoft Visual Studio for my own peace of mind"
   ]
  },
  {
   "cell_type": "markdown",
   "id": "91703441",
   "metadata": {},
   "source": [
    "#Question 6 Python:\n",
    "You can turn a word into pig-Latin using the following two rules (simplified):\n",
    "•    If the word starts with a consonant, move that letter to the end and append 'ay'. For example, 'happy’ becomes 'appyhay' and 'pencil' becomes ’encilpay'.\n",
    "    •    If the word starts with a vowel, simply append ’way’ to the end of the word. For example, 'enter' becomes 'enterway' and 'other' becomes ’otherway' . For our purposes, there are 5 vowels: a, e, i, o, u (so we count y as a consonant).\n",
    "Write a function pig( ) that takes a word (i.e., a string) as input and returns its pig- Latin form. Your function should still work if the input word contains upper case characters. Your output should always be lower case however."
   ]
  },
  {
   "cell_type": "code",
   "execution_count": 5,
   "id": "949e737d",
   "metadata": {},
   "outputs": [
    {
     "name": "stdout",
     "output_type": "stream",
     "text": [
      "Enter a Sentence: happy apple\n",
      "Pig Latin:  appyhay appleay\n"
     ]
    }
   ],
   "source": [
    "sentence = input('Enter a Sentence: ').lower()\n",
    "words = sentence.split()\n",
    "\n",
    "for i, word in enumerate(words):\n",
    "    \n",
    "    \n",
    "    if word[0] in 'aeiou':\n",
    "        words[i] = words[i]+ \"ay\"\n",
    "    else:\n",
    "        \n",
    "        has_vowel = False\n",
    "        \n",
    "        for j, letter in enumerate(word):\n",
    "            if letter in 'aeiou':\n",
    "                words[i] = word[j:] + word[:j] + \"ay\"\n",
    "                has_vowel = True\n",
    "                break\n",
    "\n",
    "        if(has_vowel == False):\n",
    "            words[i] = words[i]+ \"ay\"\n",
    "\n",
    "pig_latin = ' '.join(words)\n",
    "print(\"Pig Latin: \",pig_latin)"
   ]
  },
  {
   "cell_type": "markdown",
   "id": "a5b8a69c",
   "metadata": {},
   "source": [
    "#Question 7 Python\n",
    "File bloodtype1.txt records blood-types of patients (A, B, AB, O or OO) at a clinic. Write a function bl dcount ( ) that reads the file with name naive and reports (i.e., prints) how many patients there are in each bloodtype.\n",
    "\n",
    ">>> bldcount('bloodtype1.txt')\n",
    "There are 10 patients of blood type A. There is one patient of blood type B. There are 10 patients of blood type AB. There are 12 patients of blood type 0. There are no patients of blood type OO."
   ]
  },
  {
   "cell_type": "code",
   "execution_count": 3,
   "id": "dce12df7",
   "metadata": {},
   "outputs": [
    {
     "name": "stdout",
     "output_type": "stream",
     "text": [
      "Enter filename: E:\\School\\Georgian College\\Big Data Analytics\\Semester 1\\Data Programming\\Assignments\\Problem Set 1\\bloodtype1.txt\n",
      "There are 15 patients with blood type A.\n",
      "There is one patient of blood type B.\n",
      "There are 13 patients with blood type AB.\n",
      "There are 15 patients with blood type O.\n"
     ]
    }
   ],
   "source": [
    "def bldcount(filename):\n",
    "    try:\n",
    "        with open(filename, 'r') as f:\n",
    "            o_count, a_count, b_count, ab_count, oo_count = 0, 0, 0, 0, 0\n",
    "            for line in f:\n",
    "                words = line.strip().upper().split()\n",
    "                for blood in words:\n",
    "                    if blood == 'O':\n",
    "                        o_count += 1\n",
    "                    if blood == 'A':\n",
    "                        a_count += 1\n",
    "                    if blood == 'B':\n",
    "                        b_count += 1\n",
    "                    if blood == 'AB':\n",
    "                        ab_count += 1\n",
    "                    if blood == 'O':\n",
    "                        oo_count += 1\n",
    "            if a_count == 0:\n",
    "                print(\"There are no patients of blood type A.\")\n",
    "            elif a_count == 1:\n",
    "                print(\"There is one patient of blood type A.\")\n",
    "            else:\n",
    "                print(\"There are {} patients with blood type A.\".format(a_count))\n",
    "\n",
    "            if b_count == 0:\n",
    "                print(\"There are no patients of blood type B.\")\n",
    "            elif b_count == 1:\n",
    "                print(\"There is one patient of blood type B.\")\n",
    "            else:\n",
    "                print(\"There are {} patients with blood type B.\".format(b_count))\n",
    "\n",
    "            if ab_count == 0:\n",
    "                print(\"There are no patients of blood type AB.\")\n",
    "            elif ab_count == 1:\n",
    "                print(\"There is one patient of blood type AB.\")\n",
    "            else:\n",
    "                print(\"There are {} patients with blood type AB.\".format(ab_count))\n",
    "\n",
    "            if o_count == 0:\n",
    "                print(\"There are no patients of blood type O.\")\n",
    "            elif o_count == 1:\n",
    "                print(\"There is one patient of blood type O.\")\n",
    "            else:\n",
    "                print(\"There are {} patients with blood type O.\".format(o_count))\n",
    "    except FileNotFoundError:\n",
    "        print(filename + \" does not exists!\")\n",
    "\n",
    "\n",
    "filename = input(\"Enter filename: \")\n",
    "bldcount(filename)"
   ]
  },
  {
   "cell_type": "markdown",
   "id": "3b1689e0",
   "metadata": {},
   "source": [
    "#Question 8 Python\n",
    "Write a function c u nconv( ) that takes as input:\n",
    "\n",
    "1.    a currency represented using a string (e.g., 'JPY' for the Japanese Yen or 'EUR' for the Euro)\n",
    "2.    an amount\n",
    "\n",
    "and then converts and returns the amount in US dollars.\n",
    "\n",
    "\n",
    ">>> curconv('EUR', 100)\n",
    "\n",
    "122.96544\n",
    "\n",
    ">>> curconv('JPY', 100)\n",
    "\n",
    "1.241401\n",
    "\n",
    "The currency rates you will need are stored in file currencies.txt:\n",
    "\n",
    "AUD    1.0345157 Australian Dollar CHF    1.0237414 Swiss Franc\n",
    "CNY    0.1550176 Chinese Yuan\n",
    "DKK    0.1651442    Danish Krone\n",
    "EUR    1.2296544    Euro\n",
    "GBP    1.5550989    British Pound\n",
    "HKD    0.1270207    Hong Kong Dollar\n",
    "INR    0.0177643    Indian Rupee\n",
    "JPY    0.01241401    Japanese Yen\n",
    "MXN    0.0751848    Mexican Peso\n",
    "MYR    0.3145411    Malaysian Ringgit\n",
    "NOK    0.1677063    Norwegian Krone\n",
    "NZD    0.8003591    New Zealand Dollar\n",
    "PHP    0.0233234    Philippine Peso\n",
    "SEK    0.148269    Swedish Krona\n",
    "SGD    0.788871    Singapore Dollar\n",
    "THB    0.0313789    Thai Baht"
   ]
  },
  {
   "cell_type": "code",
   "execution_count": 2,
   "id": "7fe250c5",
   "metadata": {},
   "outputs": [
    {
     "name": "stdout",
     "output_type": "stream",
     "text": [
      "Enter filename: E:\\School\\Georgian College\\Big Data Analytics\\Semester 1\\Data Programming\\Assignments\\Problem Set 1\\currencies.txt\n",
      "122.96544\n",
      "1.241401\n"
     ]
    }
   ],
   "source": [
    "def curconv(a,b):\n",
    "    ans=0\n",
    "    l=['AUD','CHF','CNY','DKK','EUR','GBP','HKD','INR','JPY','MXN','MYR','NOK','NZD','PHP','SEK','SGD','THB']\n",
    "    l1=[1.0345157,1.0237414,0.1550176,0.1651442,1.2296544,1.5550989,0.1270207,0.0177643,0.01241401,0.0751848,0.3145411,0.1677063,0.8003591,0.0233234,0.148269,0.788871,0.0313789]\n",
    "    for i in range(len(l)):\n",
    "        if(l[i]==a):\n",
    "            ans=b*l1[i]\n",
    "            break\n",
    "    return ans\n",
    "filename = input(\"Enter filename: \")\n",
    "print(curconv(\"EUR\",100))\n",
    "print(curconv(\"JPY\",100))"
   ]
  },
  {
   "cell_type": "markdown",
   "id": "7af1eb9d",
   "metadata": {},
   "source": [
    "#Question 9 Python\n",
    "Each of the following will cause an exception (an error). Identify what type of exception each will cause.\n",
    "\n",
    "Trying to add incompatible variables, as in adding 6 + ’a’- TypeError\n",
    "\n",
    "Referring to the l2th item of a list that has only 10 items - IndexError\n",
    "\n",
    "Using a value that is out of range for a function’s input, such as calling mat h . sq rt ( -1 . 8) - ValueError\n",
    "\n",
    "Using an undeclared variable, such as pri nt (x) when x has not been defined - NameError\n",
    "\n",
    "Trying to open a file that does not exist, such as mistyping the file name or looking in the wrong directory. - IOError"
   ]
  },
  {
   "cell_type": "markdown",
   "id": "5d386b44",
   "metadata": {},
   "source": [
    "#Question 10 Python\n",
    "Encryption is the process of hiding the meaning of a text by substituting letters in the message with other letters, according to some system. If the process is successful, no one but the intended recipient can understand the encrypted message. Cryptanalysis refers to attempts to undo the encryption, even if some details of the encryption are unknown (for example, if an encrypted message has been intercepted). The first step of cryptanalysis is often to build up a table of letter frequencies in the encrypted text.\n",
    "Assume that the string letters is already defined as\n",
    "' abcdef ghi j klmnopq rst uvWxyz ' . Write a function called frequencies ( ) that takes a string as its only parameter, and returns a list of integers, showing the number of times each character appears in the text. Your function may ignore any characters that are not in letters.\n",
    "\n",
    ">>> frequencies('The quick red fox got bored and went home.') [1, 1, 1, 3, 5, 1, 1, 2, 1, 0, 1, 0, 1, 2, 4, 0, 1, 2, 0, 2,\n",
    "1, 0, 1, 1, 0, 0]\n",
    ">>> frequencies('apple')"
   ]
  },
  {
   "cell_type": "code",
   "execution_count": 1,
   "id": "4dba3e66",
   "metadata": {},
   "outputs": [
    {
     "name": "stdout",
     "output_type": "stream",
     "text": [
      "[1, 1, 1, 3, 5, 1, 1, 2, 1, 0, 1, 0, 1, 2, 4, 0, 1, 2, 0, 2, 1, 0, 1, 1, 0, 0]\n",
      "[1, 0, 0, 0, 1, 0, 0, 0, 0, 0, 0, 1, 0, 0, 0, 2, 0, 0, 0, 0, 0, 0, 0, 0, 0, 0]\n"
     ]
    }
   ],
   "source": [
    "def frequencies(string):\n",
    "    \n",
    "    letters = 'abcdefghijklmnopqrstuvwxyz'\n",
    "    \n",
    "    my_dict = {'a':0, 'b':0, 'c':0, 'd':0, 'e':0, 'f':0, 'g':0, 'h':0,\\\n",
    "                'i':0, 'j':0, 'k':0, 'l':0, 'm':0, 'n':0, 'o':0, 'p':0, 'q':0,\\\n",
    "                'r':0, 's':0, 't':0, 'u':0, 'v':0, 'w':0, 'x':0, 'y':0, 'z':0}\n",
    "    \n",
    "    for i in string:\n",
    "        \n",
    "        if(i in letters):\n",
    "            my_dict[i] += 1 \n",
    "        \n",
    "    my_list = []\n",
    "    \n",
    "    for i in my_dict.values():\n",
    "        \n",
    "        my_list.append(i)\n",
    "    \n",
    "    return my_list\n",
    "    \n",
    "print(frequencies('The quick red fox got bored and went home.'))\n",
    "print(frequencies('apple'))"
   ]
  },
  {
   "cell_type": "code",
   "execution_count": null,
   "id": "7070e2bf",
   "metadata": {},
   "outputs": [],
   "source": []
  }
 ],
 "metadata": {
  "kernelspec": {
   "display_name": "Python 3 (ipykernel)",
   "language": "python",
   "name": "python3"
  },
  "language_info": {
   "codemirror_mode": {
    "name": "ipython",
    "version": 3
   },
   "file_extension": ".py",
   "mimetype": "text/x-python",
   "name": "python",
   "nbconvert_exporter": "python",
   "pygments_lexer": "ipython3",
   "version": "3.9.12"
  }
 },
 "nbformat": 4,
 "nbformat_minor": 5
}
